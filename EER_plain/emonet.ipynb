{
 "cells": [
  {
   "cell_type": "code",
   "execution_count": null,
   "id": "cb5fb95a",
   "metadata": {},
   "outputs": [],
   "source": [
    "import torch, warnings, sys\n",
    "import numpy as np, pandas as pd\n",
    "from sklearn.metrics import accuracy_score\n",
    "from sklearn.model_selection import LeaveOneGroupOut\n",
    "from config import cols, labels\n",
    "from train_functions.MLPLogistic import MLPLogistic\n",
    "import train_functions.EMONET as em\n",
    "warnings.filterwarnings(\"ignore\", category=UserWarning)\n",
    "warnings.filterwarnings(\"ignore\", category=RuntimeWarning)\n",
    "\n",
    "type = 'Wesad'\n",
    "df = pd.read_csv(f'./datas/{type}.csv',index_col=0)\n",
    "logo = LeaveOneGroupOut()\n",
    "groups = df['pnum']\n",
    "unique_groups = np.unique(groups)\n",
    "group_count = len(unique_groups)\n",
    "\n",
    "def apply_voting(arr, window=10):\n",
    "    usable_len = (len(arr) // window) * window  # 10의 배수로 자르기\n",
    "    arr = arr[:usable_len].reshape(-1, window)\n",
    "    return np.array([np.bincount(group).argmax() for group in arr])\n",
    "\n",
    "def test_run() :\n",
    "    accs2 = []\n",
    "    accs = []\n",
    "    for i,(train_idx, test_idx) in enumerate(logo.split(df, df[labels[type]], groups)):\n",
    "        x_data = df.drop(columns=cols[type])\n",
    "        y_data = df[labels[type]]\n",
    "        x_train, x_test = np.array(x_data.iloc[train_idx]), np.array(x_data.iloc[test_idx])\n",
    "        y_train, y_test = np.array(y_data.iloc[train_idx]).reshape(-1,1), np.array(y_data.iloc[test_idx]).reshape(-1,1)\n",
    "        print(x_train.shape,y_train.shape)\n",
    "        indices = np.arange(x_train.shape[0])\n",
    "\n",
    "        indices = np.arange(x_test.shape[0])\n",
    "        accs2.append(em.train_cnn_svm_pipeline(x_train, y_train, x_test, y_test))\n",
    "        model = MLPLogistic(x_train.shape[1], 32, 1400, 5e-2, np.random.randint(10000))\n",
    "        model.fit(x_train, y_train)\n",
    "\n",
    "        proba = model.forward(torch.Tensor(x_test))\n",
    "        pred = np.where(proba>=0.5,1,0)\n",
    "\n",
    "        voted_pred = apply_voting(pred)\n",
    "        voted_y = apply_voting(y_test.reshape(-1))\n",
    "        \n",
    "        accs.append(accuracy_score(voted_y, voted_pred))\n",
    "\n",
    "        bar = '[' + '=' * int((i+1) * 31 / group_count) + ' ' * (31 - int((i+1) * 31 / group_count)) + ']'\n",
    "        percent = ((i+1) / group_count) * 100\n",
    "        sys.stdout.write(f'\\rProgress: {bar} {percent:.2f}% ({(i+1)}/{group_count})')\n",
    "        sys.stdout.flush()\n",
    "    return accs,accs2"
   ]
  },
  {
   "cell_type": "code",
   "execution_count": null,
   "id": "7736d2cd",
   "metadata": {},
   "outputs": [],
   "source": [
    "ret1,ret2 = [],[]\n",
    "for i in range(5) :\n",
    "    a1,a2 = test_run()\n",
    "    ret1.append(a1)\n",
    "    ret2.append(a2)"
   ]
  }
 ],
 "metadata": {
  "kernelspec": {
   "display_name": "pdj",
   "language": "python",
   "name": "python3"
  },
  "language_info": {
   "codemirror_mode": {
    "name": "ipython",
    "version": 3
   },
   "file_extension": ".py",
   "mimetype": "text/x-python",
   "name": "python",
   "nbconvert_exporter": "python",
   "pygments_lexer": "ipython3",
   "version": "3.10.13"
  }
 },
 "nbformat": 4,
 "nbformat_minor": 5
}
