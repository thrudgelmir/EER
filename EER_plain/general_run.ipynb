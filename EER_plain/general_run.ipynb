{
 "cells": [
  {
   "cell_type": "code",
   "execution_count": null,
   "metadata": {},
   "outputs": [],
   "source": [
    "from train_functions.general_train import general_model_train\n",
    "from config import seeds, given\n",
    "import numpy as np\n",
    "import joblib,os\n",
    "print('Given General Train Start')\n",
    "accs,f1s,train_times,inf_times = [],[],[],[]\n",
    "for seed in seeds :\n",
    "    acc,f1,train_time,inf_time = general_model_train('Given',given['epochs'], given['lr'], given['hidden'], given['reduce'], given['personal'], seed)\n",
    "    print(f'seed{seed}\\t| acc : {np.mean(acc)*100:.4f}%  f1 score : {np.mean(f1):.4f}  train time : {np.mean(train_time):.4f}s  inference time : {np.mean(inf_time):.4f}s')\n",
    "    accs.append(acc)\n",
    "    f1s.append(f1)\n",
    "    train_times.append(np.mean(train_time))\n",
    "    inf_times.append(inf_time)\n",
    "print(f'total\\t| acc : {np.mean(accs)*100:.4f}%  f1 score : {np.mean(f1s):.4f}  train time : {np.mean(train_times):.7f}s  inference time : {np.mean(inf_times)*1000:.8f}ms')\n",
    "if not os.path.isdir('./tmpdir') : os.mkdir('./tmpdir/')\n",
    "joblib.dump(np.mean(accs), './tmpdir/given_mean_acc.pkl')"
   ]
  },
  {
   "cell_type": "code",
   "execution_count": null,
   "metadata": {},
   "outputs": [],
   "source": [
    "from train_functions.general_train import general_model_train\n",
    "from config import seeds, wesad\n",
    "import numpy as np\n",
    "print('Wesad General Train Start')\n",
    "accs,f1s,train_times,inf_times = [],[],[],[]\n",
    "for seed in seeds :\n",
    "    acc,f1,train_time,inf_time = general_model_train('Wesad',wesad['epochs'], wesad['lr'], wesad['hidden'], wesad['reduce'], wesad['personal'], seed)\n",
    "    print(f'seed{seed}\\t| acc : {np.mean(acc)*100:.4f}%  f1 score : {np.mean(f1):.4f}  train time : {np.mean(train_time):.4f}s  inference time : {np.mean(inf_time):.4f}s')\n",
    "    accs.append(acc)\n",
    "    f1s.append(f1)\n",
    "    train_times.append(np.mean(train_time))\n",
    "    inf_times.append(inf_time)\n",
    "print(f'total\\t| acc : {np.mean(accs)*100:.4f}%  f1 score : {np.mean(f1s):.4f}  train time : {np.mean(train_times):.7f}s  inference time : {np.mean(inf_times)*1000:.8f}ms')\n",
    "joblib.dump(np.mean(accs), './tmpdir/wesad_mean_acc.pkl')"
   ]
  }
 ],
 "metadata": {
  "kernelspec": {
   "display_name": "pdj",
   "language": "python",
   "name": "python3"
  },
  "language_info": {
   "codemirror_mode": {
    "name": "ipython",
    "version": 3
   },
   "file_extension": ".py",
   "mimetype": "text/x-python",
   "name": "python",
   "nbconvert_exporter": "python",
   "pygments_lexer": "ipython3",
   "version": "3.10.13"
  }
 },
 "nbformat": 4,
 "nbformat_minor": 2
}
