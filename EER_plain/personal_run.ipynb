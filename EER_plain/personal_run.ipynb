{
 "cells": [
  {
   "cell_type": "code",
   "execution_count": null,
   "metadata": {},
   "outputs": [],
   "source": [
    "from train_functions.personal_train import personal_model_train\n",
    "from train_functions \n",
    "from config import seeds, given\n",
    "import numpy as np\n",
    "import joblib\n",
    "print('Given Personal Start')\n",
    "mid_accs,accs,f1s,train_times,inf_times = [],[],[],[],[]\n",
    "\n",
    "inner_epochs = 10\n",
    "inner_rounds = 200\n",
    "inner_lr = 1e-3\n",
    "t = 0.8\n",
    "\n",
    "for seed in seeds :\n",
    "    mid_acc,acc,f1,train_time,inf_time = personal_model_train('Given', given['epochs'], given['lr'], given['hidden'], given['reduce'], given['personal'], inner_epochs, inner_rounds, inner_lr, t, seed)\n",
    "    print(f'seed{seed}\\t| acc : {np.mean(acc):.4f}%  f1 score : {np.mean(f1):.4f}  train time : {np.mean(train_time):.4f}s  inference time : {np.mean(inf_time):.4f}s')\n",
    "    mid_accs.append(np.mean(mid_acc,axis=0))\n",
    "    accs.append(acc)\n",
    "    f1s.append(f1)\n",
    "    train_times.append(np.mean(train_time))\n",
    "    inf_times.append(inf_time)\n",
    "print(f'total\\t| acc : {np.mean(accs)*100:.4f}%  f1 score : {np.mean(f1s):.4f}  train time : {np.mean(train_times):.7f}s  inference time : {np.mean(inf_times)*1000:.8f}ms')\n",
    "joblib.dump(mid_accs,'./tmpdir/given10.pkl')"
   ]
  },
  {
   "cell_type": "code",
   "execution_count": null,
   "metadata": {},
   "outputs": [],
   "source": [
    "from train_functions.personal_train import personal_model_train\n",
    "from config import seeds, given\n",
    "import numpy as np, joblib\n",
    "print('Given Personal Start')\n",
    "mid_accs,accs,f1s,train_times,inf_times = [],[],[],[],[]\n",
    "\n",
    "inner_epochs = 15\n",
    "inner_rounds = 200\n",
    "inner_lr = 1e-3\n",
    "t = 0.8\n",
    "\n",
    "for seed in seeds :\n",
    "    mid_acc,acc,f1,train_time,inf_time = personal_model_train('Given', given['epochs'], given['lr'], given['hidden'], given['reduce'], 200, inner_epochs, inner_rounds, inner_lr, t, seed)\n",
    "    print(f'seed{seed}\\t| acc : {np.mean(acc):.4f}%  f1 score : {np.mean(f1):.4f}  train time : {np.mean(train_time):.4f}s  inference time : {np.mean(inf_time):.4f}s')\n",
    "    mid_accs.append(np.mean(mid_acc,axis=0))\n",
    "    accs.append(acc)\n",
    "    f1s.append(f1)\n",
    "    train_times.append(np.mean(train_time))\n",
    "    inf_times.append(inf_time)\n",
    "print(f'total\\t| acc : {np.mean(accs)*100:.4f}%  f1 score : {np.mean(f1s):.4f}  train time : {np.mean(train_times):.7f}s  inference time : {np.mean(inf_times)*1000:.8f}ms')\n",
    "joblib.dump(mid_accs,'./tmpdir/given15.pkl')"
   ]
  },
  {
   "cell_type": "code",
   "execution_count": null,
   "metadata": {},
   "outputs": [],
   "source": [
    "from train_functions.personal_train import personal_model_train\n",
    "from config import seeds, wesad\n",
    "import numpy as np\n",
    "import joblib\n",
    "print('wesad Personal Start')\n",
    "mid_accs,accs,f1s,train_times,inf_times = [],[],[],[],[]\n",
    "\n",
    "inner_epochs = 10\n",
    "inner_rounds = 200\n",
    "inner_lr = 5e-2\n",
    "t = 0.9\n",
    "\n",
    "for seed in seeds :\n",
    "    mid_acc,acc,f1,train_time,inf_time = personal_model_train('Wesad', wesad['epochs'], wesad['lr'], wesad['hidden'], wesad['reduce'], wesad['personal'], inner_epochs, inner_rounds, inner_lr, t, seed)\n",
    "    print(f'seed{seed}\\t| acc : {np.mean(acc):.4f}%  f1 score : {np.mean(f1):.4f}  train time : {np.mean(train_time):.4f}s  inference time : {np.mean(inf_time):.4f}s')\n",
    "    mid_accs.append(np.mean(mid_acc,axis=0))\n",
    "    accs.append(acc)\n",
    "    f1s.append(f1)\n",
    "    train_times.append(np.mean(train_time))\n",
    "    inf_times.append(inf_time)\n",
    "print(f'total\\t| acc : {np.mean(accs)*100:.4f}%  f1 score : {np.mean(f1s):.4f}  train time : {np.mean(train_times):.7f}s  inference time : {np.mean(inf_times)*1000:.8f}ms')\n",
    "joblib.dump(mid_accs,'./tmpdir/wesad10.pkl')"
   ]
  },
  {
   "cell_type": "code",
   "execution_count": null,
   "metadata": {},
   "outputs": [],
   "source": [
    "from train_functions.personal_train import personal_model_train\n",
    "from config import seeds, wesad\n",
    "import numpy as np\n",
    "print('wesad Personal Start')\n",
    "mid_accs,accs,f1s,train_times,inf_times = [],[],[],[],[]\n",
    "\n",
    "inner_epochs = 15\n",
    "inner_rounds = 200\n",
    "inner_lr = 5e-2\n",
    "t = 0.9\n",
    "\n",
    "for seed in seeds :\n",
    "    mid_acc,acc,f1,train_time,inf_time = personal_model_train('Wesad', wesad['epochs'], wesad['lr'], wesad['hidden'], wesad['reduce'], wesad['personal'], inner_epochs, inner_rounds, inner_lr, t, seed)\n",
    "    print(f'seed{seed}\\t| acc : {np.mean(acc):.4f}%  f1 score : {np.mean(f1):.4f}  train time : {np.mean(train_time):.4f}s  inference time : {np.mean(inf_time):.4f}s')\n",
    "    mid_accs.append(np.mean(mid_acc,axis=0))\n",
    "    accs.append(acc)\n",
    "    f1s.append(f1)\n",
    "    train_times.append(np.mean(train_time))\n",
    "    inf_times.append(inf_time)\n",
    "print(f'total\\t| acc : {np.mean(accs)*100:.4f}%  f1 score : {np.mean(f1s):.4f}  train time : {np.mean(train_times):.7f}s  inference time : {np.mean(inf_times)*1000:.8f}ms')\n",
    "joblib.dump(mid_accs,'./tmpdir/wesad15.pkl')"
   ]
  }
 ],
 "metadata": {
  "kernelspec": {
   "display_name": "pdj",
   "language": "python",
   "name": "python3"
  },
  "language_info": {
   "codemirror_mode": {
    "name": "ipython",
    "version": 3
   },
   "file_extension": ".py",
   "mimetype": "text/x-python",
   "name": "python",
   "nbconvert_exporter": "python",
   "pygments_lexer": "ipython3",
   "version": "3.10.13"
  }
 },
 "nbformat": 4,
 "nbformat_minor": 2
}
